{
 "cells": [
  {
   "cell_type": "markdown",
   "metadata": {},
   "source": [
    "# Main file to run experiments\n",
    "\n",
    "If you do not know, where to put your code, put it here"
   ]
  },
  {
   "cell_type": "code",
   "execution_count": 11,
   "metadata": {
    "collapsed": true
   },
   "outputs": [],
   "source": [
    "from dlpf.base_utils import *"
   ]
  },
  {
   "cell_type": "code",
   "execution_count": 12,
   "metadata": {
    "collapsed": true
   },
   "outputs": [],
   "source": [
    "logger = init_log(out_file = 'testbed.log', stderr = False)"
   ]
  },
  {
   "cell_type": "code",
   "execution_count": 13,
   "metadata": {
    "collapsed": false
   },
   "outputs": [],
   "source": [
    "import gym\n",
    "from dlpf.agents import DqnAgent, RandomAgent"
   ]
  },
  {
   "cell_type": "markdown",
   "metadata": {},
   "source": [
    "## Test with Random agent\n",
    "\n",
    "Pipeline works, but agent does not learn))"
   ]
  },
  {
   "cell_type": "code",
   "execution_count": 14,
   "metadata": {
    "collapsed": true
   },
   "outputs": [],
   "source": [
    "# env = gym.make('PathFindingByPixel-v1')\n",
    "# env.configure(tasks_dir = os.path.abspath('data/sample/imported/'), scale = 10, map_shape = (10, 10))\n",
    "# env.monitor.start('data/sample/results/random', force=True, seed=0)\n",
    "\n",
    "# agent = RandomAgent(env.action_space)\n",
    "\n",
    "# episode_count = 1\n",
    "# max_steps = 10\n",
    "# reward = 0\n",
    "# done = False\n",
    "\n",
    "# for i in range(episode_count):\n",
    "#     ob = env.reset()\n",
    "\n",
    "#     for j in range(max_steps):\n",
    "#         action = agent.act(ob, reward, done)\n",
    "#         ob, reward, done, _ = env.step(action)\n",
    "#         if done:\n",
    "#             break\n",
    "#         # Note there's no env.render() here. But the environment still can open window and\n",
    "#         # render if asked by env.monitor: it calls env.render('rgb_array') to record video.\n",
    "#         # Video is not recorded every episode, see capped_cubic_video_schedule for details.\n",
    "\n",
    "# # Dump result info to disk\n",
    "# env.monitor.close()"
   ]
  },
  {
   "cell_type": "markdown",
   "metadata": {},
   "source": [
    "## Basic DQN\n",
    "\n",
    "https://www.cs.toronto.edu/~vmnih/docs/dqn.pdf"
   ]
  },
  {
   "cell_type": "code",
   "execution_count": 15,
   "metadata": {
    "collapsed": true
   },
   "outputs": [],
   "source": [
    "env = gym.make('PathFindingByPixel-v1')\n",
    "env.configure(tasks_dir = os.path.abspath('data/sample/imported/'), monitor_scale = 10, map_shape = (10, 10))"
   ]
  },
  {
   "cell_type": "code",
   "execution_count": 16,
   "metadata": {
    "collapsed": true
   },
   "outputs": [],
   "source": [
    "env.monitor.start('data/sample/results/basic_dqn', force=True, seed=0)"
   ]
  },
  {
   "cell_type": "code",
   "execution_count": 17,
   "metadata": {
    "collapsed": false
   },
   "outputs": [
    {
     "name": "stdout",
     "output_type": "stream",
     "text": [
      "Training a new model\n"
     ]
    }
   ],
   "source": [
    "agent = DqnAgent(state_size = env.observation_space.shape,\n",
    "                 number_of_actions = env.action_space.n,\n",
    "                 save_name = env.__class__.__name__)"
   ]
  },
  {
   "cell_type": "code",
   "execution_count": 18,
   "metadata": {
    "collapsed": true
   },
   "outputs": [],
   "source": [
    "episode_count = 5000\n",
    "max_steps = 100\n",
    "\n",
    "for _ in xrange(episode_count):\n",
    "    observation = env.reset()\n",
    "    agent.new_episode()\n",
    "    for _ in range(max_steps):\n",
    "        action, values = agent.act(observation)\n",
    "        observation, reward, done, info = env.step(action)\n",
    "        agent.observe(reward)\n",
    "        if done:\n",
    "            break"
   ]
  },
  {
   "cell_type": "code",
   "execution_count": 19,
   "metadata": {
    "collapsed": false
   },
   "outputs": [],
   "source": [
    "!rm PathFindingByPixelEnv.h5"
   ]
  },
  {
   "cell_type": "code",
   "execution_count": null,
   "metadata": {
    "collapsed": true
   },
   "outputs": [],
   "source": [
    ""
   ]
  }
 ],
 "metadata": {
  "kernelspec": {
   "display_name": "Python [Root]",
   "language": "python",
   "name": "Python [Root]"
  },
  "language_info": {
   "codemirror_mode": {
    "name": "ipython",
    "version": 2.0
   },
   "file_extension": ".py",
   "mimetype": "text/x-python",
   "name": "python",
   "nbconvert_exporter": "python",
   "pygments_lexer": "ipython2",
   "version": "2.7.12"
  }
 },
 "nbformat": 4,
 "nbformat_minor": 0
}